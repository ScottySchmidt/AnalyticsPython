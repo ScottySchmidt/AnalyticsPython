{
 "cells": [
  {
   "cell_type": "markdown",
   "id": "ff870e7d",
   "metadata": {
    "papermill": {
     "duration": 0.004414,
     "end_time": "2023-07-25T17:28:41.669031",
     "exception": false,
     "start_time": "2023-07-25T17:28:41.664617",
     "status": "completed"
    },
    "tags": []
   },
   "source": [
    "# New Versus Old Design \n",
    "A company has a website with a 5% conversion rate. They want to test a new design to see if it improves the conversion rate. They randomly show the new design to 100 users and the old design to another 100 users. The new design results in 10 conversions, while the old design results in 5 conversions. Is the new design statistically significant?\n",
    "\n",
    "Source: Medium Microsoft Interview Question: https://platform.stratascratch.com/technical/2436-new-vs-old-design"
   ]
  },
  {
   "cell_type": "markdown",
   "id": "b08e6ce3",
   "metadata": {
    "papermill": {
     "duration": 0.003239,
     "end_time": "2023-07-25T17:28:41.676045",
     "exception": false,
     "start_time": "2023-07-25T17:28:41.672806",
     "status": "completed"
    },
    "tags": []
   },
   "source": [
    "# Explain\n",
    "To answer this question, one must use a Two-proportion Z-test. This test is common when comparing proportions or percentages such as Treatment A vs Treatment B. "
   ]
  },
  {
   "cell_type": "markdown",
   "id": "c2fd8fa9",
   "metadata": {
    "papermill": {
     "duration": 0.003177,
     "end_time": "2023-07-25T17:28:41.682674",
     "exception": false,
     "start_time": "2023-07-25T17:28:41.679497",
     "status": "completed"
    },
    "tags": []
   },
   "source": [
    "# Two-proportion Z-test \n",
    "Correct Final Accepted Solution. "
   ]
  },
  {
   "cell_type": "code",
   "execution_count": 1,
   "id": "1cdca409",
   "metadata": {
    "execution": {
     "iopub.execute_input": "2023-07-25T17:28:41.691830Z",
     "iopub.status.busy": "2023-07-25T17:28:41.691381Z",
     "iopub.status.idle": "2023-07-25T17:28:43.050323Z",
     "shell.execute_reply": "2023-07-25T17:28:43.048663Z"
    },
    "papermill": {
     "duration": 1.366956,
     "end_time": "2023-07-25T17:28:43.053026",
     "exception": false,
     "start_time": "2023-07-25T17:28:41.686070",
     "status": "completed"
    },
    "tags": []
   },
   "outputs": [
    {
     "name": "stdout",
     "output_type": "stream",
     "text": [
      "Z-statistic: -1.3423\n",
      "P-value: 0.1795\n",
      "There is not enough statistical significance evidence.\n"
     ]
    }
   ],
   "source": [
    "import statsmodels.stats.proportion as sm_proportion\n",
    "import numpy as np\n",
    "\n",
    "# Conversion counts and sample sizes\n",
    "old_conversions = 5\n",
    "old_sample_size = 100\n",
    "new_conversions = 10\n",
    "new_sample_size = 100\n",
    "\n",
    "# Perform two-proportion Z-test\n",
    "z_statistic, p_value = sm_proportion.proportions_ztest([old_conversions, new_conversions], [old_sample_size, new_sample_size])\n",
    "z_statistic, p_value = z_statistic.round(4), p_value.round(4)\n",
    "\n",
    "# Print the results\n",
    "print(\"Z-statistic:\", z_statistic)\n",
    "print(\"P-value:\", p_value)\n",
    "\n",
    "# Check statistical significance\n",
    "alpha = 0.05\n",
    "if p_value < alpha:\n",
    "    print(\"There is strong statistical significance.\")\n",
    "else:\n",
    "    print(\"There is not enough statistical significance evidence.\")"
   ]
  },
  {
   "cell_type": "markdown",
   "id": "e4d52390",
   "metadata": {
    "papermill": {
     "duration": 0.003498,
     "end_time": "2023-07-25T17:28:43.060468",
     "exception": false,
     "start_time": "2023-07-25T17:28:43.056970",
     "status": "completed"
    },
    "tags": []
   },
   "source": [
    "# T-test (Two-Sided)\n",
    "My original solution was close to the correct solution, but I should not of used a two-sided T-test. "
   ]
  },
  {
   "cell_type": "code",
   "execution_count": 2,
   "id": "6a91d69d",
   "metadata": {
    "execution": {
     "iopub.execute_input": "2023-07-25T17:28:43.070742Z",
     "iopub.status.busy": "2023-07-25T17:28:43.069705Z",
     "iopub.status.idle": "2023-07-25T17:28:43.086073Z",
     "shell.execute_reply": "2023-07-25T17:28:43.084305Z"
    },
    "papermill": {
     "duration": 0.024356,
     "end_time": "2023-07-25T17:28:43.088597",
     "exception": false,
     "start_time": "2023-07-25T17:28:43.064241",
     "status": "completed"
    },
    "tags": []
   },
   "outputs": [
    {
     "name": "stdout",
     "output_type": "stream",
     "text": [
      "T-statistic: -1.3416\n",
      "P-value: 0.1812\n",
      "There is not enough statistical significance evidence.\n",
      "Z-score: 1.3418\n"
     ]
    }
   ],
   "source": [
    "import scipy.stats as stats\n",
    "import numpy as np\n",
    "\n",
    "# Data for two groups:\n",
    "group1 = [1] * 5 + [0] * 95\n",
    "group2 = [1] * 10 + [0] * 90\n",
    "\n",
    "# Perform t-test:\n",
    "t_statistic, p_value = stats.ttest_ind(group1, group2, alternative='two-sided')\n",
    "t_statistic, p_value = t_statistic.round(4), p_value.round(4)\n",
    "\n",
    "# Print the results\n",
    "print(\"T-statistic:\", t_statistic)\n",
    "print(\"P-value:\", p_value)\n",
    "\n",
    "# Check statistical significance:\n",
    "alpha = .05\n",
    "if p_value < alpha:\n",
    "    print(\"There is strong statistical significance.\")\n",
    "else:\n",
    "    print(\"There is not enough statistical significance evidence.\")\n",
    "    \n",
    "# Degree of Freedom:\n",
    "degrees_of_freedom = len(group1)+len(group2)-2\n",
    "\n",
    "# Calculate the z-score\n",
    "z_score = stats.t.ppf(1 - (p_value / 2), df=degrees_of_freedom)\n",
    "print(\"Z-score:\", z_score.round(4))"
   ]
  },
  {
   "cell_type": "markdown",
   "id": "c7f9ab8a",
   "metadata": {
    "papermill": {
     "duration": 0.003709,
     "end_time": "2023-07-25T17:28:43.096285",
     "exception": false,
     "start_time": "2023-07-25T17:28:43.092576",
     "status": "completed"
    },
    "tags": []
   },
   "source": [
    "# Confidence Intreval"
   ]
  },
  {
   "cell_type": "code",
   "execution_count": 3,
   "id": "fec52fe6",
   "metadata": {
    "execution": {
     "iopub.execute_input": "2023-07-25T17:28:43.106230Z",
     "iopub.status.busy": "2023-07-25T17:28:43.105731Z",
     "iopub.status.idle": "2023-07-25T17:28:43.114281Z",
     "shell.execute_reply": "2023-07-25T17:28:43.113468Z"
    },
    "papermill": {
     "duration": 0.017076,
     "end_time": "2023-07-25T17:28:43.117252",
     "exception": false,
     "start_time": "2023-07-25T17:28:43.100176",
     "status": "completed"
    },
    "tags": []
   },
   "outputs": [
    {
     "name": "stdout",
     "output_type": "stream",
     "text": [
      "Confidence Interval: (-0.1231, 0.0231)\n"
     ]
    }
   ],
   "source": [
    "confidence_level = 0.95\n",
    "\n",
    "# Compute the standard error\n",
    "standard_error = np.sqrt(np.var(group1) / len(group1) + np.var(group2) / len(group2))\n",
    "\n",
    "# Calculate the margin of error\n",
    "margin_of_error = stats.t.ppf((1 + confidence_level) / 2, df=degrees_of_freedom) * standard_error\n",
    "\n",
    "# Calculate the lower and upper bounds of the confidence interval\n",
    "mean_difference = np.mean(group1) - np.mean(group2)\n",
    "lower_bound = (mean_difference - margin_of_error).round(4)\n",
    "upper_bound = (mean_difference + margin_of_error).round(4)\n",
    "\n",
    "# Print the confidence interval\n",
    "print(\"Confidence Interval:\", (lower_bound, upper_bound))"
   ]
  },
  {
   "cell_type": "code",
   "execution_count": 4,
   "id": "bde65700",
   "metadata": {
    "execution": {
     "iopub.execute_input": "2023-07-25T17:28:43.128329Z",
     "iopub.status.busy": "2023-07-25T17:28:43.127159Z",
     "iopub.status.idle": "2023-07-25T17:28:43.555994Z",
     "shell.execute_reply": "2023-07-25T17:28:43.554839Z"
    },
    "papermill": {
     "duration": 0.437643,
     "end_time": "2023-07-25T17:28:43.559187",
     "exception": false,
     "start_time": "2023-07-25T17:28:43.121544",
     "status": "completed"
    },
    "tags": []
   },
   "outputs": [
    {
     "data": {
      "image/png": "[encoded data removed]",
      "text/plain": [
       "<Figure size 640x480 with 1 Axes>"
      ]
     },
     "metadata": {},
     "output_type": "display_data"
    }
   ],
   "source": [
    "import matplotlib.pyplot as plt\n",
    "\n",
    "# Create a bar chart with error bars to plot the confidence interval\n",
    "labels = ['Group 1', 'Group 2']\n",
    "means = [np.mean(group1), np.mean(group2)]\n",
    "errors = [margin_of_error, margin_of_error]\n",
    "\n",
    "plt.bar(labels, means, yerr=errors, capsize=5, color=['blue', 'green'], alpha=0.7)\n",
    "plt.axhline(0, color='black', linestyle='--')  # Reference line at zero\n",
    "\n",
    "# Add annotations\n",
    "plt.annotate(f'Confidence Interval ({int(confidence_level*100)}%):', xy=(0.5, 0.9), xycoords='axes fraction', ha='center')\n",
    "plt.annotate(f'[{lower_bound.round(4)}, {upper_bound.round(4)}]', xy=(0.5, 0.85), xycoords='axes fraction', ha='center')\n",
    "plt.xlabel(\"Groups\")\n",
    "plt.ylabel(\"Mean\")\n",
    "plt.title(\"Comparison of Means with Confidence Intervals\")\n",
    "plt.tight_layout()\n",
    "plt.show()"
   ]
  },
  {
   "cell_type": "markdown",
   "id": "049bd530",
   "metadata": {
    "papermill": {
     "duration": 0.006619,
     "end_time": "2023-07-25T17:28:43.570531",
     "exception": false,
     "start_time": "2023-07-25T17:28:43.563912",
     "status": "completed"
    },
    "tags": []
   },
   "source": [
    "# Conclusion:\n",
    "Since p-value is higher than .05, it means that the results are not statistically significant. \n",
    "The confidence intraval would also agree that the results are not significant as (-0.1231, 0.0231) is within the range very close to 0. "
   ]
  }
 ],
 "metadata": {
  "kernelspec": {
   "display_name": "Python 3",
   "language": "python",
   "name": "python3"
  },
  "language_info": {
   "codemirror_mode": {
    "name": "ipython",
    "version": 3
   },
   "file_extension": ".py",
   "mimetype": "text/x-python",
   "name": "python",
   "nbconvert_exporter": "python",
   "pygments_lexer": "ipython3",
   "version": "3.10.10"
  },
  "papermill": {
   "default_parameters": {},
   "duration": 16.457294,
   "end_time": "2023-07-25T17:28:44.599346",
   "environment_variables": {},
   "exception": null,
   "input_path": "__notebook__.ipynb",
   "output_path": "__notebook__.ipynb",
   "parameters": {},
   "start_time": "2023-07-25T17:28:28.142052",
   "version": "2.4.0"
  }
 },
 "nbformat": 4,
 "nbformat_minor": 5
}
