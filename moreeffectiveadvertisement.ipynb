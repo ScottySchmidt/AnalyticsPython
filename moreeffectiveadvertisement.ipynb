{
 "cells": [
  {
   "cell_type": "markdown",
   "id": "77afbbcf",
   "metadata": {
    "papermill": {
     "duration": 0.001965,
     "end_time": "2023-11-27T19:20:53.995668",
     "exception": false,
     "start_time": "2023-11-27T19:20:53.993703",
     "status": "completed"
    },
    "tags": []
   },
   "source": [
    "## More Effective Advertisement\n",
    "A website has two versions of an advertisement: one with a blue background and one with a red background.\n",
    "You want to determine which version is more effective at getting users to click on the ad. \n",
    "You randomly show one version to 100 users and the other version to another 100 users.\n",
    "The blue ad is clicked on by 30 users and the red ad is clicked on by 40 users. \n",
    "What is the probability that the red ad is more effective, given this data?\n",
    "https://platform.stratascratch.com/technical/2434-more-effective-advertisement\n"
   ]
  },
  {
   "cell_type": "code",
   "execution_count": 1,
   "id": "5a83a5c8",
   "metadata": {
    "execution": {
     "iopub.execute_input": "2023-11-27T19:20:54.000277Z",
     "iopub.status.busy": "2023-11-27T19:20:53.999897Z",
     "iopub.status.idle": "2023-11-27T19:20:54.010914Z",
     "shell.execute_reply": "2023-11-27T19:20:54.010231Z"
    },
    "papermill": {
     "duration": 0.017096,
     "end_time": "2023-11-27T19:20:54.014325",
     "exception": false,
     "start_time": "2023-11-27T19:20:53.997229",
     "status": "completed"
    },
    "tags": []
   },
   "outputs": [
    {
     "name": "stdout",
     "output_type": "stream",
     "text": [
      "Z-Score:  1.4825\n",
      "Reject the null hypothesis\n"
     ]
    }
   ],
   "source": [
    "import math\n",
    "\n",
    "#CALCULATE Z SCORE:\n",
    "p1 = 0.40\n",
    "p2 = 0.30\n",
    "size1 = 100\n",
    "size2 = 100\n",
    "\n",
    "pooled_proportion = (p1 * size1 + p2 * size2) / (size1 + size2)\n",
    "standard_error = math.sqrt(pooled_proportion * (1 - pooled_proportion) * ((1/size1) + (1/size2)))\n",
    "\n",
    "z = (p1 - p2) / standard_error\n",
    "rounded_z = round(z, 4)\n",
    "print(\"Z-Score: \" , rounded_z)\n",
    "\n",
    "#COMPARE TO significance_level\n",
    "significance_level = 0.05\n",
    "\n",
    "if abs(rounded_z) > significance_level:\n",
    "    print(\"Reject the null hypothesis\")\n",
    "else:\n",
    "    print(\"Fail to reject the null hypothesis\")"
   ]
  },
  {
   "cell_type": "markdown",
   "id": "4028acc3",
   "metadata": {
    "papermill": {
     "duration": 0.001264,
     "end_time": "2023-11-27T19:20:54.017326",
     "exception": false,
     "start_time": "2023-11-27T19:20:54.016062",
     "status": "completed"
    },
    "tags": []
   },
   "source": [
    "We reject the null hypothesis there is not enough to suggest the red ad is better than the blue ad."
   ]
  }
 ],
 "metadata": {
  "kaggle": {
   "accelerator": "none",
   "dataSources": [],
   "dockerImageVersionId": 30587,
   "isGpuEnabled": false,
   "isInternetEnabled": true,
   "language": "python",
   "sourceType": "notebook"
  },
  "kernelspec": {
   "display_name": "Python 3",
   "language": "python",
   "name": "python3"
  },
  "language_info": {
   "codemirror_mode": {
    "name": "ipython",
    "version": 3
   },
   "file_extension": ".py",
   "mimetype": "text/x-python",
   "name": "python",
   "nbconvert_exporter": "python",
   "pygments_lexer": "ipython3",
   "version": "3.10.12"
  },
  "papermill": {
   "default_parameters": {},
   "duration": 2.930528,
   "end_time": "2023-11-27T19:20:54.338667",
   "environment_variables": {},
   "exception": null,
   "input_path": "__notebook__.ipynb",
   "output_path": "__notebook__.ipynb",
   "parameters": {},
   "start_time": "2023-11-27T19:20:51.408139",
   "version": "2.4.0"
  }
 },
 "nbformat": 4,
 "nbformat_minor": 5
}
