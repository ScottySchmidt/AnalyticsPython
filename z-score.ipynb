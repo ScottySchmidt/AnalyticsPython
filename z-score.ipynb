{
 "cells": [
  {
   "cell_type": "markdown",
   "id": "eff587eb",
   "metadata": {
    "papermill": {
     "duration": 0.002621,
     "end_time": "2023-11-30T21:41:12.074182",
     "exception": false,
     "start_time": "2023-11-30T21:41:12.071561",
     "status": "completed"
    },
    "tags": []
   },
   "source": [
    "## Test for the mean. Population variance known\n",
    "Is the sample mean for salaries $113,000?\n",
    "\n",
    "Standard error of the mean = s / √n\n",
    "s: sample standard deviation\n",
    "n: sample size\n",
    "\n",
    "Z = mean - U / standard_error"
   ]
  },
  {
   "cell_type": "code",
   "execution_count": 1,
   "id": "cc91934e",
   "metadata": {
    "execution": {
     "iopub.execute_input": "2023-11-30T21:41:12.080955Z",
     "iopub.status.busy": "2023-11-30T21:41:12.080511Z",
     "iopub.status.idle": "2023-11-30T21:41:12.099727Z",
     "shell.execute_reply": "2023-11-30T21:41:12.098922Z"
    },
    "papermill": {
     "duration": 0.027331,
     "end_time": "2023-11-30T21:41:12.103754",
     "exception": false,
     "start_time": "2023-11-30T21:41:12.076423",
     "status": "completed"
    },
    "tags": []
   },
   "outputs": [
    {
     "name": "stdout",
     "output_type": "stream",
     "text": [
      "Mean: 100200.36666666667\n",
      "Standard Deviation: 11478.40612653809\n",
      "Standard Error: 2095.6606532368032\n",
      "Z-Score: 6.1077\n"
     ]
    }
   ],
   "source": [
    "import numpy as np\n",
    "\n",
    "# Salaries data\n",
    "salaries = [117313, 104002, 113038, 101936, 84560, 113136, 80740, 100536, 105052,\n",
    "            87201, 91986, 94868, 90745, 102848, 85927, 112276, 108637, 96818, \n",
    "            92307, 114564, 109714, 108833, 115295, 89279, 81720, 89344, 114426, \n",
    "            90410, 95118, 113382]\n",
    "\n",
    "# Test value\n",
    "test_value = 113_000\n",
    "\n",
    "# Calculate mean, standard deviation, and sample size\n",
    "mean_value = np.mean(salaries)\n",
    "sample_size = len(salaries)\n",
    "standard_deviation = np.std(salaries, ddof=1)\n",
    "\n",
    "# Calculate standard error of the mean\n",
    "standard_error = standard_deviation / np.sqrt(sample_size)\n",
    "\n",
    "# Calculate Z-score\n",
    "Z_score = (test_value - mean_value) / standard_error\n",
    "Z_score = Z_score.round(4)\n",
    "\n",
    "print(\"Mean:\", mean_value)\n",
    "print(\"Standard Deviation:\", standard_deviation)\n",
    "print(\"Standard Error:\", standard_error)\n",
    "print(\"Z-Score:\", Z_score)\n"
   ]
  },
  {
   "cell_type": "markdown",
   "id": "df40d1f7",
   "metadata": {
    "papermill": {
     "duration": 0.001942,
     "end_time": "2023-11-30T21:41:12.107985",
     "exception": false,
     "start_time": "2023-11-30T21:41:12.106043",
     "status": "completed"
    },
    "tags": []
   },
   "source": [
    "Since Z-score is 6 standard deviations away, we reject the hypothesis the average salary is $130,000.\n",
    "Also, ddof = 1 is most common for the standard error parameter. np.std ddof = 1 calculates the standard error of the mean"
   ]
  }
 ],
 "metadata": {
  "kaggle": {
   "accelerator": "none",
   "dataSources": [],
   "dockerImageVersionId": 30587,
   "isGpuEnabled": false,
   "isInternetEnabled": true,
   "language": "python",
   "sourceType": "notebook"
  },
  "kernelspec": {
   "display_name": "Python 3",
   "language": "python",
   "name": "python3"
  },
  "language_info": {
   "codemirror_mode": {
    "name": "ipython",
    "version": 3
   },
   "file_extension": ".py",
   "mimetype": "text/x-python",
   "name": "python",
   "nbconvert_exporter": "python",
   "pygments_lexer": "ipython3",
   "version": "3.10.12"
  },
  "papermill": {
   "default_parameters": {},
   "duration": 3.800842,
   "end_time": "2023-11-30T21:41:12.428954",
   "environment_variables": {},
   "exception": null,
   "input_path": "__notebook__.ipynb",
   "output_path": "__notebook__.ipynb",
   "parameters": {},
   "start_time": "2023-11-30T21:41:08.628112",
   "version": "2.4.0"
  }
 },
 "nbformat": 4,
 "nbformat_minor": 5
}
